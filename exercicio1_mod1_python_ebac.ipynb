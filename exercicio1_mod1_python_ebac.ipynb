{
  "nbformat": 4,
  "nbformat_minor": 0,
  "metadata": {
    "colab": {
      "provenance": [],
      "authorship_tag": "ABX9TyOGSdym7NQyj82BP1zlm7jc",
      "include_colab_link": true
    },
    "kernelspec": {
      "name": "python3",
      "display_name": "Python 3"
    },
    "language_info": {
      "name": "python"
    }
  },
  "cells": [
    {
      "cell_type": "markdown",
      "metadata": {
        "id": "view-in-github",
        "colab_type": "text"
      },
      "source": [
        "<a href=\"https://colab.research.google.com/github/alamirrangel/curso_ebac_frontend/blob/exercicio1_python/exercicio1_mod1_python_ebac.ipynb\" target=\"_parent\"><img src=\"https://colab.research.google.com/assets/colab-badge.svg\" alt=\"Open In Colab\"/></a>"
      ]
    },
    {
      "cell_type": "markdown",
      "source": [
        "1) Exercício Olá, mundo."
      ],
      "metadata": {
        "id": "-Ta-pSB1iG_m"
      }
    },
    {
      "cell_type": "code",
      "execution_count": null,
      "metadata": {
        "colab": {
          "base_uri": "https://localhost:8080/"
        },
        "id": "RM-dK6Arhfcn",
        "outputId": "90108501-f70b-410e-eced-bf975c94d594"
      },
      "outputs": [
        {
          "output_type": "stream",
          "name": "stdout",
          "text": [
            "Olá, mundo\n"
          ]
        }
      ],
      "source": [
        "print(\"Olá, mundo\")"
      ]
    },
    {
      "cell_type": "markdown",
      "source": [
        "2) Exercício Números\n",
        "\n",
        "Calculo de ticket medio\n",
        "\n",
        "Valor Total Vendas = svv\n",
        "\n",
        "Qtd Total Vendas = sqv\n",
        "\n",
        "Ticket Medio = tkt\n",
        "\n",
        "tkt=svv/sqv\n",
        "\n",
        "Planilha:\n",
        "\n",
        "| Dia   | Valor Total Vendas | Qtd Total Vendas | Ticket Medio |\n",
        "|-------|--------------------|------------------|-|\n",
        "| 19/01 | 153.98             | 3                |?|\n",
        "| 20/01 | 337.01             | 7                |?|\n",
        "| 23/01 | 295.33             | 5                |?|"
      ],
      "metadata": {
        "id": "rgfNPsZPiFUI"
      }
    },
    {
      "cell_type": "code",
      "source": [
        "svv_19 = 153.98\n",
        "sqt_19 = 3\n",
        "tkt_19 = svv_19 / sqt_19\n",
        "print(tkt_19)\n",
        "\n",
        "svv_20 = 337.01\n",
        "sqt_20 = 7\n",
        "tkt_20 = svv_20 / sqt_20\n",
        "print(tkt_20)\n",
        "\n",
        "svv_23 = 295.33\n",
        "sqt_23 = 5\n",
        "tkt_23 = svv_23 / sqt_23\n",
        "print(tkt_23)"
      ],
      "metadata": {
        "colab": {
          "base_uri": "https://localhost:8080/"
        },
        "id": "cspSs6dwivQf",
        "outputId": "2d41f85a-80d4-4f4b-ff46-af283b924a97"
      },
      "execution_count": null,
      "outputs": [
        {
          "output_type": "stream",
          "name": "stdout",
          "text": [
            "51.32666666666666\n",
            "48.144285714285715\n",
            "59.065999999999995\n"
          ]
        }
      ]
    },
    {
      "cell_type": "markdown",
      "source": [
        "| Dia   | Valor Total Vendas | Qtd Total Vendas | Ticket Medio |\n",
        "|-------|--------------------|------------------|-|\n",
        "| 19/01 | 153.98             | 3                |51.32666666666666|\n",
        "| 20/01 | 337.01             | 7                |48.144285714285715|\n",
        "| 23/01 | 295.33             | 5                |59.065999999999995|"
      ],
      "metadata": {
        "id": "mc8BuJwekIic"
      }
    },
    {
      "cell_type": "markdown",
      "source": [
        "3) Exercício String\n",
        "\n"
      ],
      "metadata": {
        "id": "v69Eki6nkqte"
      }
    }
  ]
}